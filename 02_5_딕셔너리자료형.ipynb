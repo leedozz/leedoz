{
 "cells": [
  {
   "cell_type": "markdown",
   "metadata": {},
   "source": [
    "### 딕셔너리는 어떻게 만들까?\n",
    "> {key1 : value1, key2 : value2, ...}"
   ]
  },
  {
   "cell_type": "code",
   "execution_count": 4,
   "metadata": {},
   "outputs": [
    {
     "name": "stdout",
     "output_type": "stream",
     "text": [
      "['a', 'b', {'food': 'kimchi'}]\n",
      "[{1: 'hi'}, {'a': [1, 2, 3]}, {'a': (1, 2, 3)}]\n"
     ]
    }
   ],
   "source": [
    "dic = {\"name\" : \"pey\", \"phone\" : \"010-1234-1234\", \"birth\": \"1118\"}\n",
    "\n",
    "a = {1:\"hi\"}\n",
    "\n",
    "b = {\"a\":[1, 2, 3]}\n",
    "\n",
    "c = {\"a\":(1, 2, 3)}\n",
    "\n",
    "d = [\"a\", \"b\", {\"food\":\"kimchi\"}]\n",
    "print(d)\n",
    "\n",
    "e = [a, b, c]\n",
    "print(e)"
   ]
  },
  {
   "cell_type": "code",
   "execution_count": 14,
   "metadata": {},
   "outputs": [
    {
     "name": "stdout",
     "output_type": "stream",
     "text": [
      "{1: 'a', 2: 'b', 'name': 'pey'}\n"
     ]
    }
   ],
   "source": [
    "# 딕셔너리 쌍 추가하기\n",
    "a = {1: \"a\"}\n",
    "a[2] = \"b\"  #키값 2에 밸류값b를 추가\n",
    "a[\"name\"] = \"pey\"\n",
    "\n",
    "print(a)"
   ]
  },
  {
   "cell_type": "code",
   "execution_count": 15,
   "metadata": {},
   "outputs": [
    {
     "name": "stdout",
     "output_type": "stream",
     "text": [
      "{1: 'a', 2: 'b', 'name': 'pey'}\n",
      "{1: 'a', 2: 'b', 'name': '홍길동'}\n"
     ]
    }
   ],
   "source": [
    "#딕셔너리 요소 수정\n",
    "print(a)\n",
    "\n",
    "a[\"name\"] = \"홍길동\"  #있는 키값은 수정이된다.\n",
    "\n",
    "print(a)"
   ]
  },
  {
   "cell_type": "code",
   "execution_count": 17,
   "metadata": {},
   "outputs": [
    {
     "name": "stdout",
     "output_type": "stream",
     "text": [
      "{1: 'a', 2: 'b', 'name': '홍길동'}\n",
      "{1: 'a', 2: 'b'}\n"
     ]
    }
   ],
   "source": [
    "#딕셔너리 요소 삭제\n",
    "print(a)\n",
    "\n",
    "del a[\"name\"]\n",
    "print(a)"
   ]
  },
  {
   "cell_type": "code",
   "execution_count": 19,
   "metadata": {},
   "outputs": [
    {
     "name": "stdout",
     "output_type": "stream",
     "text": [
      "10\n",
      "99\n"
     ]
    }
   ],
   "source": [
    "# 딕셔너리에서 key를 사용해 value얻기\n",
    "\n",
    "grade = {'pey' : 10, 'julliet' : 99}\n",
    "\n",
    "print(grade['pey'])\n",
    "print(grade['julliet'])"
   ]
  },
  {
   "cell_type": "code",
   "execution_count": 21,
   "metadata": {},
   "outputs": [
    {
     "name": "stdout",
     "output_type": "stream",
     "text": [
      "{1: 'b'}\n",
      "1\n"
     ]
    }
   ],
   "source": [
    "# 딕셔너리를 만들 때 주의사항\n",
    "\n",
    "a = {1: \"a\", 1: \"b\"}  #중복시 마지막값만 나오게됨\n",
    "print(a)\n",
    "print(len(a))"
   ]
  },
  {
   "cell_type": "code",
   "execution_count": 23,
   "metadata": {},
   "outputs": [
    {
     "ename": "TypeError",
     "evalue": "unhashable type: 'list'",
     "output_type": "error",
     "traceback": [
      "\u001b[1;31m---------------------------------------------------------------------------\u001b[0m",
      "\u001b[1;31mTypeError\u001b[0m                                 Traceback (most recent call last)",
      "Cell \u001b[1;32mIn[23], line 1\u001b[0m\n\u001b[1;32m----> 1\u001b[0m a \u001b[38;5;241m=\u001b[39m {[\u001b[38;5;241m1\u001b[39m, \u001b[38;5;241m2\u001b[39m]:\u001b[38;5;124m\"\u001b[39m\u001b[38;5;124mhi\u001b[39m\u001b[38;5;124m\"\u001b[39m} \u001b[38;5;66;03m#key값으로 리스트 사용불가\u001b[39;00m\n",
      "\u001b[1;31mTypeError\u001b[0m: unhashable type: 'list'"
     ]
    }
   ],
   "source": [
    "a = {[1, 2]:\"hi\"} #key값으로 리스트 사용불가"
   ]
  },
  {
   "cell_type": "markdown",
   "metadata": {},
   "source": [
    "### 딕셔너리 관련 함수"
   ]
  },
  {
   "cell_type": "code",
   "execution_count": 26,
   "metadata": {},
   "outputs": [
    {
     "name": "stdout",
     "output_type": "stream",
     "text": [
      "<class 'dict_keys'>\n",
      "['name', 'phone', 'birth']\n"
     ]
    }
   ],
   "source": [
    "# key 리스트 만들기 .keys()\n",
    "\n",
    "a = {\"name\" : \"pey\", \"phone\" : \"010-1234-1234\", \"birth\": \"1118\"}\n",
    "a.keys()\n",
    "print(type(a.keys()))\n",
    "print(list(a.keys()))"
   ]
  },
  {
   "cell_type": "code",
   "execution_count": 29,
   "metadata": {},
   "outputs": [
    {
     "name": "stdout",
     "output_type": "stream",
     "text": [
      "name\n",
      "phone\n",
      "birth\n"
     ]
    }
   ],
   "source": [
    "for k in a.keys():\n",
    "    print(k)"
   ]
  },
  {
   "cell_type": "code",
   "execution_count": 31,
   "metadata": {},
   "outputs": [
    {
     "name": "stdout",
     "output_type": "stream",
     "text": [
      "pey\n",
      "010-1234-1234\n",
      "1118\n"
     ]
    }
   ],
   "source": [
    "for value in a.values():\n",
    "    print(value)"
   ]
  },
  {
   "cell_type": "code",
   "execution_count": 34,
   "metadata": {},
   "outputs": [
    {
     "name": "stdout",
     "output_type": "stream",
     "text": [
      "dict_items([('name', 'pey'), ('phone', '010-1234-1234'), ('birth', '1118')])\n",
      "<class 'dict_items'>\n",
      "[('name', 'pey'), ('phone', '010-1234-1234'), ('birth', '1118')]\n"
     ]
    }
   ],
   "source": [
    "# key, value 쌍 얻기 .items\n",
    "\n",
    "a = {\"name\" : \"pey\", \"phone\" : \"010-1234-1234\", \"birth\": \"1118\"}\n",
    "print(a.items())\n",
    "print(type(a.items()))\n",
    "print(list(a.items()))"
   ]
  },
  {
   "cell_type": "code",
   "execution_count": 36,
   "metadata": {},
   "outputs": [
    {
     "name": "stdout",
     "output_type": "stream",
     "text": [
      "pey\n",
      "pey\n"
     ]
    }
   ],
   "source": [
    "print(a.get(\"name\"))\n",
    "print(a[\"name\"])"
   ]
  },
  {
   "cell_type": "code",
   "execution_count": 37,
   "metadata": {},
   "outputs": [
    {
     "name": "stdout",
     "output_type": "stream",
     "text": [
      "True\n",
      "False\n"
     ]
    }
   ],
   "source": [
    "# 해당 key가 딕셔너리에 있는지 조사하기 in\n",
    "a = {\"name\" : \"pey\", \"phone\" : \"010-1234-1234\", \"birth\": \"1118\"}\n",
    "print('name' in a)\n",
    "print('nokey' in a)"
   ]
  }
 ],
 "metadata": {
  "kernelspec": {
   "display_name": "Python 3",
   "language": "python",
   "name": "python3"
  },
  "language_info": {
   "codemirror_mode": {
    "name": "ipython",
    "version": 3
   },
   "file_extension": ".py",
   "mimetype": "text/x-python",
   "name": "python",
   "nbconvert_exporter": "python",
   "pygments_lexer": "ipython3",
   "version": "3.12.4"
  }
 },
 "nbformat": 4,
 "nbformat_minor": 2
}
