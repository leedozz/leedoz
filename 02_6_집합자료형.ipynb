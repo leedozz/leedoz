{
 "cells": [
  {
   "cell_type": "markdown",
   "metadata": {},
   "source": [
    "### 집합자료형\n",
    "* 중복을 허용하지 않는다.\n",
    "* 순서가 없다.\n"
   ]
  },
  {
   "cell_type": "code",
   "execution_count": 5,
   "metadata": {},
   "outputs": [
    {
     "name": "stdout",
     "output_type": "stream",
     "text": [
      "{1, 2, 3}\n",
      "<class 'set'>\n",
      "{'o', 'H', 'l', 'e'}\n",
      "<class 'set'>\n",
      "{'is', 'python'}\n",
      "<class 'set'>\n"
     ]
    }
   ],
   "source": [
    "s1 = set({1, 2, 3})\n",
    "print(s1)\n",
    "print(type(s1))\n",
    "\n",
    "s2 = set(\"Hello\")  #중복허용이 안돼서 l이 한번만나옴\n",
    "print(s2)\n",
    "print(type(s2))\n",
    "\n",
    "s3 = {\"python\", \"is\"}\n",
    "print(s3)\n",
    "print(type(s3))"
   ]
  },
  {
   "cell_type": "code",
   "execution_count": 6,
   "metadata": {},
   "outputs": [
    {
     "name": "stdout",
     "output_type": "stream",
     "text": [
      "{1, 2, 3}\n",
      "<class 'set'>\n"
     ]
    },
    {
     "data": {
      "text/plain": [
       "[1, 2, 3]"
      ]
     },
     "execution_count": 6,
     "metadata": {},
     "output_type": "execute_result"
    }
   ],
   "source": [
    "# 리스트로 변환\n",
    "s1 = set([1, 2, 3])\n",
    "print(s1)\n",
    "print(type(s1))\n",
    "\n",
    "list(s1)\n"
   ]
  },
  {
   "cell_type": "code",
   "execution_count": 8,
   "metadata": {},
   "outputs": [
    {
     "name": "stdout",
     "output_type": "stream",
     "text": [
      "{1, 2, 3}\n",
      "<class 'set'>\n",
      "<class 'tuple'>\n"
     ]
    }
   ],
   "source": [
    "# 튜플로 변환\n",
    "s1 = set([1, 2, 3])\n",
    "print(s1)\n",
    "print(type(s1))\n",
    "\n",
    "t1 = tuple(s1)\n",
    "print(type(t1))"
   ]
  },
  {
   "cell_type": "markdown",
   "metadata": {},
   "source": [
    "### 교집합, 합집합, 차집합"
   ]
  },
  {
   "cell_type": "code",
   "execution_count": 13,
   "metadata": {},
   "outputs": [
    {
     "name": "stdout",
     "output_type": "stream",
     "text": [
      "교집합(&):  {4, 5, 6}\n"
     ]
    },
    {
     "data": {
      "text/plain": [
       "[4, 5, 6]"
      ]
     },
     "execution_count": 13,
     "metadata": {},
     "output_type": "execute_result"
    }
   ],
   "source": [
    "s1 = [1,2,3,4,5,6]\n",
    "s2 = [4,5,6,7,8,9]\n",
    "\n",
    "s1 = set(s1)\n",
    "s2 = set(s2)\n",
    "\n",
    "# 교집합 &\n",
    "r1 = s1 & s2\n",
    "print(\"교집합(&): \", r1)\n",
    "\n",
    "\n",
    "list(r1)"
   ]
  },
  {
   "cell_type": "code",
   "execution_count": 17,
   "metadata": {},
   "outputs": [
    {
     "name": "stdout",
     "output_type": "stream",
     "text": [
      "교집합(intersection):  {4, 5, 6}\n"
     ]
    },
    {
     "data": {
      "text/plain": [
       "[4, 5, 6]"
      ]
     },
     "execution_count": 17,
     "metadata": {},
     "output_type": "execute_result"
    }
   ],
   "source": [
    "s1 = [1,2,3,4,5,6]\n",
    "s2 = [4,5,6,7,8,9]\n",
    "s1 = set(s1)\n",
    "s2 = set(s2)\n",
    "\n",
    "# 교집합 intersection()\n",
    "r2 = s1.intersection(s2)\n",
    "print(\"교집합(intersection): \", r2)\n",
    "\n",
    "list(r2)\n",
    "\n",
    "\n"
   ]
  },
  {
   "cell_type": "code",
   "execution_count": 20,
   "metadata": {},
   "outputs": [
    {
     "name": "stdout",
     "output_type": "stream",
     "text": [
      "합집합(|) {1, 2, 3, 4, 5, 6, 7, 8, 9}\n",
      "{1, 2, 3, 4, 5, 6, 7, 8, 9}\n"
     ]
    }
   ],
   "source": [
    "s1 = [1,2,3,4,5,6]\n",
    "s2 = [4,5,6,7,8,9]\n",
    "\n",
    "s1 = set(s1)\n",
    "s2 = set(s2)\n",
    "\n",
    "# 합집합 |\n",
    "\n",
    "result1 = s1 | s2\n",
    "print(\"합집합(|)\", result1)\n",
    "\n",
    "#합집합 union()\n",
    "result2 = s1.union(s2)\n",
    "print(result2)"
   ]
  }
 ],
 "metadata": {
  "kernelspec": {
   "display_name": "Python 3",
   "language": "python",
   "name": "python3"
  },
  "language_info": {
   "codemirror_mode": {
    "name": "ipython",
    "version": 3
   },
   "file_extension": ".py",
   "mimetype": "text/x-python",
   "name": "python",
   "nbconvert_exporter": "python",
   "pygments_lexer": "ipython3",
   "version": "3.12.4"
  }
 },
 "nbformat": 4,
 "nbformat_minor": 2
}
