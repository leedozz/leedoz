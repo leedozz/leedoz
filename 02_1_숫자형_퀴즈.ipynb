{
 "cells": [
  {
   "cell_type": "markdown",
   "metadata": {},
   "source": [
    "# 연습문제 (정수형)"
   ]
  },
  {
   "cell_type": "markdown",
   "metadata": {},
   "source": []
  },
  {
   "cell_type": "code",
   "execution_count": 19,
   "metadata": {},
   "outputs": [
    {
     "name": "stdout",
     "output_type": "stream",
     "text": [
      "3.141500\n",
      "3.1415\n",
      "3.1415\n",
      "=====================================\n",
      "3.141500\n",
      "3.1415\n",
      "3.1415\n",
      "=====================================\n",
      "3.1\n",
      "3.1\n",
      "3.1\n"
     ]
    }
   ],
   "source": [
    "# 소수점 첫째짜리 까지만\n",
    "a = 3.1415\n",
    "print(\"%f\" % 3.1415)\n",
    "print(\"{}\".format(3.1415))\n",
    "print(f\"{3.1415}\")\n",
    "print(\"=====================================\")\n",
    "\n",
    "print(\"%f\" % a)\n",
    "print(\"{}\".format(a))\n",
    "print(f\"{a}\")\n",
    "print(\"=====================================\")\n",
    "\n",
    "print(\"%.1f\" % a)\n",
    "print(\"{:.1f}\".format(a))\n",
    "print(f\"{a:.1f}\")"
   ]
  },
  {
   "cell_type": "code",
   "execution_count": 20,
   "metadata": {},
   "outputs": [
    {
     "data": {
      "text/plain": [
       "int"
      ]
     },
     "execution_count": 20,
     "metadata": {},
     "output_type": "execute_result"
    }
   ],
   "source": [
    "# 문자열 정수로 변환\n",
    "\n",
    "a = \"1234\"\n",
    "\n",
    "b = int(a)\n",
    "\n",
    "type(b)"
   ]
  },
  {
   "cell_type": "code",
   "execution_count": 22,
   "metadata": {},
   "outputs": [
    {
     "name": "stdout",
     "output_type": "stream",
     "text": [
      "6\n",
      "-2\n",
      "8\n",
      "0.5\n",
      "0\n",
      "2\n"
     ]
    }
   ],
   "source": [
    "# a = 2, b = 4  더하기,빼기,나누기,곱하기,몫,나머지\n",
    "\n",
    "a = 2\n",
    "b = 4\n",
    "\n",
    "print(a+b)\n",
    "print(a-b)\n",
    "print(a*b)\n",
    "print(a/b)\n",
    "print(a//b)\n",
    "print(a%b)"
   ]
  },
  {
   "cell_type": "code",
   "execution_count": 23,
   "metadata": {},
   "outputs": [
    {
     "data": {
      "text/plain": [
       "36"
      ]
     },
     "execution_count": 23,
     "metadata": {},
     "output_type": "execute_result"
    }
   ],
   "source": [
    "#밑6, 지수2\n",
    "\n",
    "6**2"
   ]
  },
  {
   "cell_type": "code",
   "execution_count": 25,
   "metadata": {},
   "outputs": [
    {
     "name": "stdout",
     "output_type": "stream",
     "text": [
      "7\n"
     ]
    }
   ],
   "source": [
    "#입력받은 2개의 수 더하기\n",
    "\n",
    "a = int(input(\"첫 번째 수 입력: \"))\n",
    "b = int(input(\"두 번째 수 입력: \"))\n",
    "\n",
    "print(a + b)"
   ]
  },
  {
   "cell_type": "markdown",
   "metadata": {},
   "source": [
    "두 개의 숫자를 입력받은 후 두 개의 숫자를 더한 값, 곱한 값, 나눈 몫, 나머지 값을 각각 다음과 같이 출력하는 프로그램을 작성하시오\n",
    "\n",
    "* 5 + 4 = 9\n",
    "* 5 * 4 = 20\n",
    "* 5 / 4 = 1.25\n",
    "* 5 // 4 = 1\n",
    "* 5 % 4 = 1"
   ]
  },
  {
   "cell_type": "code",
   "execution_count": 28,
   "metadata": {},
   "outputs": [
    {
     "name": "stdout",
     "output_type": "stream",
     "text": [
      "5 + 4 = 9\n",
      "5 * 4 = 20\n",
      "5 / 4 = 1.25\n",
      "5 // 4 = 1\n",
      "5 % 4 = 1\n"
     ]
    }
   ],
   "source": [
    "a = int(input(\"첫 번째 수 입력: \"))\n",
    "b = int(input(\"두 번째 수 입력: \"))\n",
    "\n",
    "print(f\"{a} + {b} = {a + b}\")\n",
    "print(f\"{a} * {b} = {a * b}\")\n",
    "print(f\"{a} / {b} = {a / b}\")\n",
    "print(f\"{a} // {b} = {a // b}\")\n",
    "print(f\"{a} % {b} = {a % b}\")"
   ]
  }
 ],
 "metadata": {
  "kernelspec": {
   "display_name": "Python 3",
   "language": "python",
   "name": "python3"
  },
  "language_info": {
   "codemirror_mode": {
    "name": "ipython",
    "version": 3
   },
   "file_extension": ".py",
   "mimetype": "text/x-python",
   "name": "python",
   "nbconvert_exporter": "python",
   "pygments_lexer": "ipython3",
   "version": "3.12.4"
  }
 },
 "nbformat": 4,
 "nbformat_minor": 2
}
