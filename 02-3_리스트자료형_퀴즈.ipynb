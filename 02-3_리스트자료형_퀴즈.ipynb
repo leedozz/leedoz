{
 "cells": [
  {
   "cell_type": "markdown",
   "metadata": {},
   "source": [
    "1. 사용자로 부터 입력 받은 수를 num 이라는 변수에 담고, 그 수를 3.141592를 곱한 뒤 소수 1번째 자리까지만 나오도록 출력하세요 "
   ]
  },
  {
   "cell_type": "code",
   "execution_count": 66,
   "metadata": {},
   "outputs": [
    {
     "name": "stdout",
     "output_type": "stream",
     "text": [
      "당신이 입력한 값은 1이고, 결과값은 3.1입니다.\n"
     ]
    }
   ],
   "source": [
    "num = int(input(\"숫자입력: \"))\n",
    "x = num * 3.141592\n",
    "print(f\"당신이 입력한 값은 {num}이고, 결과값은 {\"%0.1f\" % x}입니다.\")\n"
   ]
  },
  {
   "cell_type": "markdown",
   "metadata": {},
   "source": [
    "2. 사용자로부터 입력받은 초(second)를 시간, 분, 초로 변환하여 출력하는 프로그램을 작성하세요 (출력예시: 1시간 1분 1초)"
   ]
  },
  {
   "cell_type": "code",
   "execution_count": 69,
   "metadata": {},
   "outputs": [
    {
     "name": "stdout",
     "output_type": "stream",
     "text": [
      "1시간 1분 3초\n"
     ]
    }
   ],
   "source": [
    "second = int(input(\"몇 초?: \"))\n",
    "\n",
    "hour = second // 3600\n",
    " \n",
    "\n",
    "min = (second % 3600) // 60\n",
    "\n",
    "\n",
    "sec = (second % 3600) % 60\n",
    "\n",
    "print(f\"{hour}시간 {min}분 {sec}초\")\n"
   ]
  },
  {
   "cell_type": "code",
   "execution_count": 47,
   "metadata": {},
   "outputs": [
    {
     "data": {
      "text/plain": [
       "61"
      ]
     },
     "execution_count": 47,
     "metadata": {},
     "output_type": "execute_result"
    }
   ],
   "source": [
    "3661 % 3600"
   ]
  },
  {
   "cell_type": "markdown",
   "metadata": {},
   "source": [
    "3. 아래 스크립트에서 '올림픽'이라는 글자 몇 번 출력되는가?  \n",
    "* script = \"하계 올림픽에 48년 만에 최소 선수(144명)를 보낸 대한민국 선수단이 2024 파리 올림픽에서 거침없이 금메달을 수집 중이다.\n",
    "파리 올림픽 태권도 남자 58㎏급에 출전한 박태준(20·경희대)은 7일(현지시간) 우리나라 남자 태권도 선수로는 16년 만에 올림픽 금메달을 목에 걸고 이번 대회 한국 선수단에 12번째 금메달을 선사했다.\""
   ]
  },
  {
   "cell_type": "code",
   "execution_count": 16,
   "metadata": {},
   "outputs": [
    {
     "name": "stdout",
     "output_type": "stream",
     "text": [
      "4\n"
     ]
    }
   ],
   "source": [
    "script = \"하계 올림픽에 48년 만에 최소 선수(144명)를 보낸 대한민국 선수단이 2024 파리 올림픽에서 거침없이 금메달을 수집 중이다. 파리 올림픽 태권도 남자 58㎏급에 출전한 박태준(20·경희대)은 7일(현지시간) 우리나라 남자 태권도 선수로는 16년 만에 올림픽 금메달을 목에 걸고 이번 대회 한국 선수단에 12번째 금메달을 선사했다.\"\n",
    "\n",
    "print(script.count(\"올림픽\"))"
   ]
  },
  {
   "cell_type": "markdown",
   "metadata": {},
   "source": [
    "4. 위 스크립트에서 ( ) -> [ ] 변경해 주세요 "
   ]
  },
  {
   "cell_type": "code",
   "execution_count": 77,
   "metadata": {},
   "outputs": [
    {
     "data": {
      "text/plain": [
       "'하계 올림픽에 48년 만에 최소 선수[144명]를 보낸 대한민국 선수단이 2024 파리 올림픽에서 거침없이 금메달을 수집 중이다. 파리 올림픽 태권도 남자 58㎏급에 출전한 박태준[20·경희대]은 7일[현지시간] 우리나라 남자 태권도 선수로는 16년 만에 올림픽 금메달을 목에 걸고 이번 대회 한국 선수단에 12번째 금메달을 선사했다.'"
      ]
     },
     "execution_count": 77,
     "metadata": {},
     "output_type": "execute_result"
    }
   ],
   "source": [
    "script = \"하계 올림픽에 48년 만에 최소 선수(144명)를 보낸 대한민국 선수단이 2024 파리 올림픽에서 거침없이 금메달을 수집 중이다. 파리 올림픽 태권도 남자 58㎏급에 출전한 박태준(20·경희대)은 7일(현지시간) 우리나라 남자 태권도 선수로는 16년 만에 올림픽 금메달을 목에 걸고 이번 대회 한국 선수단에 12번째 금메달을 선사했다.\"\n",
    "\n",
    "script.replace(\"(\", \"[\") .replace(\")\", \"]\")"
   ]
  },
  {
   "cell_type": "markdown",
   "metadata": {},
   "source": [
    "5. a = \"python\" 를 [\"p\", \"y\", \"t\", \"h\", \"o\", \"n\"] 으로 만들어보세요 "
   ]
  },
  {
   "cell_type": "code",
   "execution_count": 79,
   "metadata": {},
   "outputs": [
    {
     "name": "stdout",
     "output_type": "stream",
     "text": [
      "p,y,t,h,o,n\n"
     ]
    },
    {
     "data": {
      "text/plain": [
       "['p', 'y', 't', 'h', 'o', 'n']"
      ]
     },
     "execution_count": 79,
     "metadata": {},
     "output_type": "execute_result"
    }
   ],
   "source": [
    "a = \"python\"\n",
    "b = \",\".join(a)\n",
    "print(b)\n",
    "b.split(\",\")"
   ]
  },
  {
   "cell_type": "markdown",
   "metadata": {},
   "source": [
    "6. 문자열 a = \"hello World from Python\" 을 [\"hello\", \"World\", \"from\", \"Python\"] 로 변환시키고 입력받은 이름을 리스트 마지막에 추가히세요 "
   ]
  },
  {
   "cell_type": "code",
   "execution_count": 84,
   "metadata": {},
   "outputs": [
    {
     "name": "stdout",
     "output_type": "stream",
     "text": [
      "['hello', 'World', 'from', 'Python']\n",
      "['hello', 'World', 'from', 'Python', 'lee']\n"
     ]
    }
   ],
   "source": [
    "a = \"hello World from Python\"\n",
    "b = a.split()\n",
    "print(b)\n",
    "name = input(\"이름: \")\n",
    "b.append(name)\n",
    "print(b)"
   ]
  },
  {
   "cell_type": "markdown",
   "metadata": {},
   "source": [
    "7. a = [], fav = [\"사과\", \"포도\", \"배\", \"감자\", \"수박\", \"옥수수\", \"고구마\", \"딸기\"] 에서 \"딸기\"와 \"고구마\"를 뺀 나머지 리스트를 pop() 이용하여 출력하고, 추출한 \"딸기\"와 \"고구마\"를 a 리스트에 append()를 활용하여 추가하세요 "
   ]
  },
  {
   "cell_type": "code",
   "execution_count": 85,
   "metadata": {},
   "outputs": [
    {
     "name": "stdout",
     "output_type": "stream",
     "text": [
      "['사과', '포도', '배', '감자', '수박', '옥수수']\n",
      "['딸기', '고구마']\n"
     ]
    }
   ],
   "source": [
    "fav = [\"사과\", \"포도\", \"배\", \"감자\", \"수박\", \"옥수수\", \"고구마\", \"딸기\"]\n",
    "d = fav.pop()\n",
    "g = fav.pop()\n",
    "print(fav)\n",
    "a = []\n",
    "a.append(d)\n",
    "a.append(g)\n",
    "print(a)"
   ]
  },
  {
   "cell_type": "markdown",
   "metadata": {},
   "source": [
    "8. fav = [\"사과\", \"포도\", \"배\", \"감자\", \"수박\", \"옥수수\", \"고구마\", \"딸기\"] 리스트 슬라이싱을 활용하여 [\"배\", \"감자\", \"수박\", \"옥수수\"] 만들어서 b 변수에 대입하세요 그리고 사용자로부터 가장 좋아하는 음식을 입력받아서 b리스트의 3번째 요소에 입력하세요 "
   ]
  },
  {
   "cell_type": "code",
   "execution_count": 40,
   "metadata": {},
   "outputs": [
    {
     "name": "stdout",
     "output_type": "stream",
     "text": [
      "['배', '감자', '밥', '수박', '옥수수']\n"
     ]
    }
   ],
   "source": [
    "fav = [\"사과\", \"포도\", \"배\", \"감자\", \"수박\", \"옥수수\", \"고구마\", \"딸기\"]\n",
    "b = fav[2:6]\n",
    "\n",
    "food = input(\"좋아하는 음식: \")\n",
    "\n",
    "b.insert(2,food)\n",
    "\n",
    "print(b)"
   ]
  },
  {
   "cell_type": "markdown",
   "metadata": {},
   "source": []
  }
 ],
 "metadata": {
  "kernelspec": {
   "display_name": "Python 3",
   "language": "python",
   "name": "python3"
  },
  "language_info": {
   "codemirror_mode": {
    "name": "ipython",
    "version": 3
   },
   "file_extension": ".py",
   "mimetype": "text/x-python",
   "name": "python",
   "nbconvert_exporter": "python",
   "pygments_lexer": "ipython3",
   "version": "3.12.4"
  }
 },
 "nbformat": 4,
 "nbformat_minor": 2
}
